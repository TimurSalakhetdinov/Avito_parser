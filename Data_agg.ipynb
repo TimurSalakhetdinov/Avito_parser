{
 "cells": [
  {
   "cell_type": "markdown",
   "metadata": {},
   "source": [
    "# Добавление цен в справочник КИАС из источника RSA и с сайта Avito"
   ]
  },
  {
   "cell_type": "markdown",
   "metadata": {},
   "source": [
    "## Loading data"
   ]
  },
  {
   "cell_type": "code",
   "execution_count": 1,
   "metadata": {},
   "outputs": [],
   "source": [
    "import pandas as pd\n",
    "import numpy as np\n",
    "pd.set_option('display.max_columns', None)\n",
    "pd.set_option('display.max_rows', None)"
   ]
  },
  {
   "cell_type": "code",
   "execution_count": 5,
   "metadata": {},
   "outputs": [],
   "source": [
    "df_avito = pd.read_excel('avito_cars_all.xlsx')"
   ]
  },
  {
   "cell_type": "code",
   "execution_count": 6,
   "metadata": {},
   "outputs": [
    {
     "data": {
      "text/html": [
       "<div>\n",
       "<style scoped>\n",
       "    .dataframe tbody tr th:only-of-type {\n",
       "        vertical-align: middle;\n",
       "    }\n",
       "\n",
       "    .dataframe tbody tr th {\n",
       "        vertical-align: top;\n",
       "    }\n",
       "\n",
       "    .dataframe thead th {\n",
       "        text-align: right;\n",
       "    }\n",
       "</style>\n",
       "<table border=\"1\" class=\"dataframe\">\n",
       "  <thead>\n",
       "    <tr style=\"text-align: right;\">\n",
       "      <th></th>\n",
       "      <th>ID</th>\n",
       "      <th>Brand</th>\n",
       "      <th>Model</th>\n",
       "      <th>Year</th>\n",
       "      <th>Price</th>\n",
       "      <th>Power</th>\n",
       "      <th>Region</th>\n",
       "    </tr>\n",
       "  </thead>\n",
       "  <tbody>\n",
       "    <tr>\n",
       "      <th>0</th>\n",
       "      <td>3876779285</td>\n",
       "      <td>AC</td>\n",
       "      <td>378 GT Zagato 6.2 MT</td>\n",
       "      <td>2012.0</td>\n",
       "      <td>250000</td>\n",
       "      <td>442.0</td>\n",
       "      <td>Санкт-Петербург</td>\n",
       "    </tr>\n",
       "    <tr>\n",
       "      <th>1</th>\n",
       "      <td>3265686141</td>\n",
       "      <td>AC</td>\n",
       "      <td>Ace 2.9 AT</td>\n",
       "      <td>1992.0</td>\n",
       "      <td>750000</td>\n",
       "      <td>195.0</td>\n",
       "      <td>Кемеровская обл.</td>\n",
       "    </tr>\n",
       "    <tr>\n",
       "      <th>2</th>\n",
       "      <td>3734363330</td>\n",
       "      <td>Acura</td>\n",
       "      <td>ILX 2.4 AMT</td>\n",
       "      <td>2015.0</td>\n",
       "      <td>1900000</td>\n",
       "      <td>201.0</td>\n",
       "      <td>Санкт-Петербург</td>\n",
       "    </tr>\n",
       "    <tr>\n",
       "      <th>3</th>\n",
       "      <td>3908015824</td>\n",
       "      <td>Acura</td>\n",
       "      <td>MDX 3.5 AT</td>\n",
       "      <td>2014.0</td>\n",
       "      <td>2550000</td>\n",
       "      <td>290.0</td>\n",
       "      <td>Москва</td>\n",
       "    </tr>\n",
       "    <tr>\n",
       "      <th>4</th>\n",
       "      <td>3728192767</td>\n",
       "      <td>Acura</td>\n",
       "      <td>RDX 3.5 AT</td>\n",
       "      <td>2014.0</td>\n",
       "      <td>1936000</td>\n",
       "      <td>273.0</td>\n",
       "      <td>Москва</td>\n",
       "    </tr>\n",
       "  </tbody>\n",
       "</table>\n",
       "</div>"
      ],
      "text/plain": [
       "           ID  Brand                 Model    Year    Price  Power  \\\n",
       "0  3876779285     AC  378 GT Zagato 6.2 MT  2012.0   250000  442.0   \n",
       "1  3265686141     AC            Ace 2.9 AT  1992.0   750000  195.0   \n",
       "2  3734363330  Acura           ILX 2.4 AMT  2015.0  1900000  201.0   \n",
       "3  3908015824  Acura            MDX 3.5 AT  2014.0  2550000  290.0   \n",
       "4  3728192767  Acura            RDX 3.5 AT  2014.0  1936000  273.0   \n",
       "\n",
       "             Region  \n",
       "0   Санкт-Петербург  \n",
       "1  Кемеровская обл.  \n",
       "2   Санкт-Петербург  \n",
       "3            Москва  \n",
       "4            Москва  "
      ]
     },
     "execution_count": 6,
     "metadata": {},
     "output_type": "execute_result"
    }
   ],
   "source": [
    "df_avito.head()"
   ]
  },
  {
   "cell_type": "code",
   "execution_count": 7,
   "metadata": {},
   "outputs": [
    {
     "name": "stdout",
     "output_type": "stream",
     "text": [
      "<class 'pandas.core.frame.DataFrame'>\n",
      "RangeIndex: 473978 entries, 0 to 473977\n",
      "Data columns (total 7 columns):\n",
      " #   Column  Non-Null Count   Dtype  \n",
      "---  ------  --------------   -----  \n",
      " 0   ID      473978 non-null  int64  \n",
      " 1   Brand   473978 non-null  object \n",
      " 2   Model   473978 non-null  object \n",
      " 3   Year    473977 non-null  float64\n",
      " 4   Price   473978 non-null  int64  \n",
      " 5   Power   460835 non-null  float64\n",
      " 6   Region  461255 non-null  object \n",
      "dtypes: float64(2), int64(2), object(3)\n",
      "memory usage: 25.3+ MB\n"
     ]
    }
   ],
   "source": [
    "df_avito.info()"
   ]
  },
  {
   "cell_type": "markdown",
   "metadata": {},
   "source": [
    "## Cleaning data of Avito prices"
   ]
  },
  {
   "cell_type": "code",
   "execution_count": 8,
   "metadata": {},
   "outputs": [
    {
     "name": "stdout",
     "output_type": "stream",
     "text": [
      "<class 'pandas.core.frame.DataFrame'>\n",
      "Index: 472460 entries, 0 to 473977\n",
      "Data columns (total 7 columns):\n",
      " #   Column  Non-Null Count   Dtype  \n",
      "---  ------  --------------   -----  \n",
      " 0   ID      472460 non-null  int64  \n",
      " 1   Brand   472460 non-null  object \n",
      " 2   Model   472460 non-null  object \n",
      " 3   Year    472459 non-null  float64\n",
      " 4   Price   472460 non-null  int64  \n",
      " 5   Power   459318 non-null  float64\n",
      " 6   Region  459738 non-null  object \n",
      "dtypes: float64(2), int64(2), object(3)\n",
      "memory usage: 28.8+ MB\n"
     ]
    }
   ],
   "source": [
    "# Deleting duplicates\n",
    "df_avito = df_avito.drop_duplicates(subset=['ID'])\n",
    "df_avito.info()"
   ]
  },
  {
   "cell_type": "code",
   "execution_count": 9,
   "metadata": {},
   "outputs": [],
   "source": [
    "# Define the pattern to match 'number.number MT', 'number.number AT', or 'number.number CVT'\n",
    "pattern = r'(\\s+\\d+\\.\\d+)?\\s+(MT|AT|CVT|AMT)$'\n",
    "\n",
    "# Use str.replace to remove the matched pattern\n",
    "df_avito['Model'] = df_avito['Model'].str.replace(pattern, '', regex=True)"
   ]
  },
  {
   "cell_type": "code",
   "execution_count": 10,
   "metadata": {},
   "outputs": [],
   "source": [
    "# Filter the DataFrame to keep only cars from 2012 and later\n",
    "df_avito_filtered = df_avito[df_avito['Year'] >= 2012]"
   ]
  },
  {
   "cell_type": "code",
   "execution_count": 11,
   "metadata": {},
   "outputs": [
    {
     "name": "stdout",
     "output_type": "stream",
     "text": [
      "<class 'pandas.core.frame.DataFrame'>\n",
      "Index: 307975 entries, 0 to 473974\n",
      "Data columns (total 7 columns):\n",
      " #   Column  Non-Null Count   Dtype  \n",
      "---  ------  --------------   -----  \n",
      " 0   ID      307975 non-null  int64  \n",
      " 1   Brand   307975 non-null  object \n",
      " 2   Model   307975 non-null  object \n",
      " 3   Year    307975 non-null  float64\n",
      " 4   Price   307975 non-null  int64  \n",
      " 5   Power   294905 non-null  float64\n",
      " 6   Region  295254 non-null  object \n",
      "dtypes: float64(2), int64(2), object(3)\n",
      "memory usage: 18.8+ MB\n"
     ]
    }
   ],
   "source": [
    "df_avito_filtered.info()"
   ]
  },
  {
   "cell_type": "code",
   "execution_count": 12,
   "metadata": {},
   "outputs": [
    {
     "data": {
      "text/html": [
       "<div>\n",
       "<style scoped>\n",
       "    .dataframe tbody tr th:only-of-type {\n",
       "        vertical-align: middle;\n",
       "    }\n",
       "\n",
       "    .dataframe tbody tr th {\n",
       "        vertical-align: top;\n",
       "    }\n",
       "\n",
       "    .dataframe thead th {\n",
       "        text-align: right;\n",
       "    }\n",
       "</style>\n",
       "<table border=\"1\" class=\"dataframe\">\n",
       "  <thead>\n",
       "    <tr style=\"text-align: right;\">\n",
       "      <th></th>\n",
       "      <th>Brand</th>\n",
       "      <th>Model</th>\n",
       "      <th>Year</th>\n",
       "      <th>median_price</th>\n",
       "      <th>min_price</th>\n",
       "      <th>max_price</th>\n",
       "    </tr>\n",
       "  </thead>\n",
       "  <tbody>\n",
       "    <tr>\n",
       "      <th>0</th>\n",
       "      <td>AC</td>\n",
       "      <td>378 GT Zagato</td>\n",
       "      <td>2012.0</td>\n",
       "      <td>250000.0</td>\n",
       "      <td>250000</td>\n",
       "      <td>250000</td>\n",
       "    </tr>\n",
       "    <tr>\n",
       "      <th>1</th>\n",
       "      <td>AITO</td>\n",
       "      <td>M5</td>\n",
       "      <td>2022.0</td>\n",
       "      <td>4599999.5</td>\n",
       "      <td>3600000</td>\n",
       "      <td>6490000</td>\n",
       "    </tr>\n",
       "    <tr>\n",
       "      <th>2</th>\n",
       "      <td>AITO</td>\n",
       "      <td>M5</td>\n",
       "      <td>2023.0</td>\n",
       "      <td>5270000.0</td>\n",
       "      <td>3990000</td>\n",
       "      <td>6800000</td>\n",
       "    </tr>\n",
       "    <tr>\n",
       "      <th>3</th>\n",
       "      <td>AITO</td>\n",
       "      <td>M5 EV</td>\n",
       "      <td>2022.0</td>\n",
       "      <td>120000800.0</td>\n",
       "      <td>120000800</td>\n",
       "      <td>120000800</td>\n",
       "    </tr>\n",
       "    <tr>\n",
       "      <th>4</th>\n",
       "      <td>AITO</td>\n",
       "      <td>M5 EV</td>\n",
       "      <td>2023.0</td>\n",
       "      <td>5394591.0</td>\n",
       "      <td>4500000</td>\n",
       "      <td>6090000</td>\n",
       "    </tr>\n",
       "  </tbody>\n",
       "</table>\n",
       "</div>"
      ],
      "text/plain": [
       "  Brand          Model    Year  median_price  min_price  max_price\n",
       "0    AC  378 GT Zagato  2012.0      250000.0     250000     250000\n",
       "1  AITO             M5  2022.0     4599999.5    3600000    6490000\n",
       "2  AITO             M5  2023.0     5270000.0    3990000    6800000\n",
       "3  AITO          M5 EV  2022.0   120000800.0  120000800  120000800\n",
       "4  AITO          M5 EV  2023.0     5394591.0    4500000    6090000"
      ]
     },
     "execution_count": 12,
     "metadata": {},
     "output_type": "execute_result"
    }
   ],
   "source": [
    "# Group by 'производитель' and 'модель' and calculate min and max prices\n",
    "df_avito_agg = df_avito_filtered.groupby(['Brand', 'Model', 'Year'])['Price'].agg(median_price='median', min_price='min', max_price='max').reset_index()\n",
    "df_avito_agg.head()"
   ]
  },
  {
   "cell_type": "code",
   "execution_count": 13,
   "metadata": {},
   "outputs": [],
   "source": [
    "# Save 'avito_cars_agg' to an Excel file\n",
    "df_avito_agg.to_excel('avito_cars_agg.xlsx', index=False)"
   ]
  }
 ],
 "metadata": {
  "kernelspec": {
   "display_name": ".venv",
   "language": "python",
   "name": "python3"
  },
  "language_info": {
   "codemirror_mode": {
    "name": "ipython",
    "version": 3
   },
   "file_extension": ".py",
   "mimetype": "text/x-python",
   "name": "python",
   "nbconvert_exporter": "python",
   "pygments_lexer": "ipython3",
   "version": "3.9.6"
  }
 },
 "nbformat": 4,
 "nbformat_minor": 2
}
